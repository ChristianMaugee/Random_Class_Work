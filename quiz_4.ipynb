{
 "cells": [
  {
   "cell_type": "markdown",
   "metadata": {},
   "source": [
    "Write Python code to determine how many emails cwen@iupui.edu sent to the list. Your answer here will get you 4 points if correct. Question 9 asks for your code. If incorrect, I'll look at the code and give partial credit based on that.\n",
    "\n",
    "from cwen@iupui.edu"
   ]
  },
  {
   "cell_type": "code",
   "execution_count": 1,
   "metadata": {},
   "outputs": [
    {
     "name": "stdout",
     "output_type": "stream",
     "text": [
      "cwen@iupui.edu sent 158 emails to the list\n"
     ]
    }
   ],
   "source": [
    "def problem_1():\n",
    "    find = \"from cwen@iupui.edu\"\n",
    "    count = 0\n",
    "    fhand = open(\"mbox.txt\")\n",
    "    for line in fhand:\n",
    "        line = line.lower()\n",
    "        line = line.rstrip()\n",
    "        #search through lines of the file for \"find\" variable defined earlier\n",
    "        #if found, print stuff, if not, continue\n",
    "        if line.find(find) == -1: continue\n",
    "             #print the water level and  date and time of max level\n",
    "        count = count + 1\n",
    "    print(\"cwen@iupui.edu sent\",count,\"emails to the list\")\n",
    "\n",
    "problem_1()"
   ]
  },
  {
   "cell_type": "markdown",
   "metadata": {},
   "source": [
    "Write Python code to find the maximum value of  X-DSPAM-Confidence. "
   ]
  },
  {
   "cell_type": "code",
   "execution_count": 5,
   "metadata": {},
   "outputs": [
    {
     "name": "stdout",
     "output_type": "stream",
     "text": [
      "The max value is 0.9965\n"
     ]
    }
   ],
   "source": [
    "def problem_2():\n",
    "    numbers = list()\n",
    "    number = 0\n",
    "    fhand = open(\"mbox.txt\")\n",
    "    find = \"X-DSPAM-Confidence\"\n",
    "    for line in fhand:\n",
    "        line = line.rstrip()\n",
    "        word = line.split()\n",
    "        #search through lines of the file for \"find\" variable defined earlier\n",
    "        #if found, print stuff, if not, continue\n",
    "        if line.find(find) == -1: continue\n",
    "        #find value of confidence\n",
    "        number = float(word[1])\n",
    "        #add to list\n",
    "        numbers.append(number)\n",
    "    max_value = max(numbers)\n",
    "    print(\"The max value is\", max_value)\n",
    "\n",
    "problem_2()"
   ]
  }
 ],
 "metadata": {
  "kernelspec": {
   "display_name": "Python 3.8.9 64-bit",
   "language": "python",
   "name": "python3"
  },
  "language_info": {
   "codemirror_mode": {
    "name": "ipython",
    "version": 3
   },
   "file_extension": ".py",
   "mimetype": "text/x-python",
   "name": "python",
   "nbconvert_exporter": "python",
   "pygments_lexer": "ipython3",
   "version": "3.8.9"
  },
  "orig_nbformat": 4,
  "vscode": {
   "interpreter": {
    "hash": "31f2aee4e71d21fbe5cf8b01ff0e069b9275f58929596ceb00d14d90e3e16cd6"
   }
  }
 },
 "nbformat": 4,
 "nbformat_minor": 2
}
